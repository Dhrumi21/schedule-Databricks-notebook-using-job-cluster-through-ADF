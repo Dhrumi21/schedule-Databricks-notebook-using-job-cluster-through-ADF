{
 "cells": [
  {
   "cell_type": "code",
   "execution_count": 0,
   "metadata": {
    "application/vnd.databricks.v1+cell": {
     "cellMetadata": {
      "byteLimit": 2048000,
      "rowLimit": 10000
     },
     "inputWidgets": {},
     "nuid": "fc2e52a1-e8e6-4f31-875f-d62717a3db00",
     "showTitle": false,
     "tableResultSettingsMap": {},
     "title": ""
    }
   },
   "outputs": [],
   "source": [
    "spark.conf.set(\n",
    "    \"fs.azure.account.key.datalakest21.dfs.core.windows.net\",\n",
    "    \"kMt/NysUCwy25kcAmJ4sYGKq9CR68G00e5Wz0sqlMy5URjC1ByAYKN7Ead+2VatYwdjsHneFF1ss+AStiyfI3Q==\")\n"
   ]
  },
  {
   "cell_type": "code",
   "execution_count": 0,
   "metadata": {
    "application/vnd.databricks.v1+cell": {
     "cellMetadata": {
      "byteLimit": 2048000,
      "rowLimit": 10000
     },
     "inputWidgets": {},
     "nuid": "1c49538d-7ea2-48a7-97a8-72fe5cf39529",
     "showTitle": false,
     "tableResultSettingsMap": {},
     "title": ""
    }
   },
   "outputs": [
    {
     "output_type": "display_data",
     "data": {
      "text/html": [
       "<style scoped>\n",
       "  .table-result-container {\n",
       "    max-height: 300px;\n",
       "    overflow: auto;\n",
       "  }\n",
       "  table, th, td {\n",
       "    border: 1px solid black;\n",
       "    border-collapse: collapse;\n",
       "  }\n",
       "  th, td {\n",
       "    padding: 5px;\n",
       "  }\n",
       "  th {\n",
       "    text-align: left;\n",
       "  }\n",
       "</style><div class='table-result-container'><table class='table-result'><thead style='background-color: white'><tr><th>path</th><th>name</th><th>size</th><th>modificationTime</th></tr></thead><tbody><tr><td>abfss://raw@datalakest21.dfs.core.windows.net/retail_store_inventory.csv</td><td>retail_store_inventory.csv</td><td>6191463</td><td>1733240004000</td></tr><tr><td>abfss://raw@datalakest21.dfs.core.windows.net/transactions.csv</td><td>transactions.csv</td><td>3513</td><td>1733154981000</td></tr></tbody></table></div>"
      ]
     },
     "metadata": {
      "application/vnd.databricks.v1+output": {
       "addedWidgets": {},
       "aggData": [],
       "aggError": "",
       "aggOverflow": false,
       "aggSchema": [],
       "aggSeriesLimitReached": false,
       "aggType": "",
       "arguments": {},
       "columnCustomDisplayInfos": {},
       "data": [
        [
         "abfss://raw@datalakest21.dfs.core.windows.net/retail_store_inventory.csv",
         "retail_store_inventory.csv",
         6191463,
         1733240004000
        ],
        [
         "abfss://raw@datalakest21.dfs.core.windows.net/transactions.csv",
         "transactions.csv",
         3513,
         1733154981000
        ]
       ],
       "datasetInfos": [],
       "dbfsResultPath": null,
       "isJsonSchema": true,
       "metadata": {},
       "overflow": false,
       "plotOptions": {
        "customPlotOptions": {},
        "displayType": "table",
        "pivotAggregation": null,
        "pivotColumns": null,
        "xColumns": null,
        "yColumns": null
       },
       "removedWidgets": [],
       "schema": [
        {
         "metadata": "{}",
         "name": "path",
         "type": "\"string\""
        },
        {
         "metadata": "{}",
         "name": "name",
         "type": "\"string\""
        },
        {
         "metadata": "{}",
         "name": "size",
         "type": "\"long\""
        },
        {
         "metadata": "{}",
         "name": "modificationTime",
         "type": "\"long\""
        }
       ],
       "type": "table"
      }
     },
     "output_type": "display_data"
    }
   ],
   "source": [
    "display(dbutils.fs.ls(\"abfss://raw@datalakest21.dfs.core.windows.net/\"))"
   ]
  },
  {
   "cell_type": "markdown",
   "metadata": {
    "application/vnd.databricks.v1+cell": {
     "cellMetadata": {
      "byteLimit": 2048000,
      "rowLimit": 10000
     },
     "inputWidgets": {},
     "nuid": "637190c7-fea2-45e1-9e3a-278e0be93b56",
     "showTitle": false,
     "tableResultSettingsMap": {},
     "title": ""
    }
   },
   "source": [
    "Extract"
   ]
  },
  {
   "cell_type": "code",
   "execution_count": 0,
   "metadata": {
    "application/vnd.databricks.v1+cell": {
     "cellMetadata": {
      "byteLimit": 2048000,
      "rowLimit": 10000
     },
     "inputWidgets": {},
     "nuid": "bfeb2ae0-8fdd-438b-8a10-6236cd1d7469",
     "showTitle": false,
     "tableResultSettingsMap": {},
     "title": ""
    }
   },
   "outputs": [
    {
     "output_type": "stream",
     "name": "stdout",
     "output_type": "stream",
     "text": [
      "+--------------+----------+----------------+------------------+----------------+\n|transaction_id|account_id|transaction_date|transaction_amount|transaction_type|\n+--------------+----------+----------------+------------------+----------------+\n|             1|        45|      2024-01-01|             100.5|         Deposit|\n|             2|        12|      2024-01-02|            200.75|      Withdrawal|\n|             3|        78|      2024-01-03|             150.0|         Deposit|\n|             4|        34|      2024-01-04|            300.25|      Withdrawal|\n|             5|        56|      2024-01-05|             250.0|         Deposit|\n|             6|        23|      2024-01-06|             175.0|      Withdrawal|\n|             7|        89|      2024-01-07|             225.5|         Deposit|\n|             8|        67|      2024-01-08|            275.75|      Withdrawal|\n|             9|        14|      2024-01-09|             325.0|         Deposit|\n|            10|        92|      2024-01-10|            375.25|      Withdrawal|\n|            11|         3|      2024-01-11|             100.5|         Deposit|\n|            12|        81|      2024-01-12|            200.75|      Withdrawal|\n|            13|        29|      2024-01-13|             150.0|         Deposit|\n|            14|        64|      2024-01-14|            300.25|      Withdrawal|\n|            15|        47|      2024-01-15|             250.0|         Deposit|\n|            16|        18|      2024-01-16|             175.0|      Withdrawal|\n|            17|        99|      2024-01-17|             225.5|         Deposit|\n|            18|         5|      2024-01-18|            275.75|      Withdrawal|\n|            19|        76|      2024-01-19|             325.0|         Deposit|\n|            20|        21|      2024-01-20|            375.25|      Withdrawal|\n|            21|        53|      2024-01-21|             100.5|         Deposit|\n|            22|        37|      2024-01-22|            200.75|      Withdrawal|\n|            23|        88|      2024-01-23|             150.0|         Deposit|\n|            24|        11|      2024-01-24|            300.25|      Withdrawal|\n|            25|        66|      2024-01-25|             250.0|         Deposit|\n+--------------+----------+----------------+------------------+----------------+\nonly showing top 25 rows\n\n"
     ]
    }
   ],
   "source": [
    "df = spark.read.csv(\"abfss://raw@datalakest21.dfs.core.windows.net/transactions.csv\", header=True, inferSchema=\"true\");\n",
    "df.show(25)"
   ]
  },
  {
   "cell_type": "markdown",
   "metadata": {
    "application/vnd.databricks.v1+cell": {
     "cellMetadata": {
      "byteLimit": 2048000,
      "rowLimit": 10000
     },
     "inputWidgets": {},
     "nuid": "1dd63041-dde9-40b0-a1f2-aeb6e865151e",
     "showTitle": false,
     "tableResultSettingsMap": {},
     "title": ""
    }
   },
   "source": [
    "Transformation"
   ]
  },
  {
   "cell_type": "code",
   "execution_count": 0,
   "metadata": {
    "application/vnd.databricks.v1+cell": {
     "cellMetadata": {
      "byteLimit": 2048000,
      "rowLimit": 10000
     },
     "inputWidgets": {},
     "nuid": "08f90e9c-7a98-4418-a552-7a9c31fe311b",
     "showTitle": false,
     "tableResultSettingsMap": {},
     "title": ""
    }
   },
   "outputs": [
    {
     "output_type": "stream",
     "name": "stdout",
     "output_type": "stream",
     "text": [
      "+--------------+----------+----------------+------------------+----------------+--------------------+\n|transaction_id|account_id|transaction_date|transaction_amount|transaction_type| ingestion_timestamp|\n+--------------+----------+----------------+------------------+----------------+--------------------+\n|             1|        45|      2024-01-01|             100.5|         Deposit|2024-12-04 01:04:...|\n|             2|        12|      2024-01-02|            200.75|      Withdrawal|2024-12-04 01:04:...|\n|             3|        78|      2024-01-03|             150.0|         Deposit|2024-12-04 01:04:...|\n|             4|        34|      2024-01-04|            300.25|      Withdrawal|2024-12-04 01:04:...|\n|             5|        56|      2024-01-05|             250.0|         Deposit|2024-12-04 01:04:...|\n|             6|        23|      2024-01-06|             175.0|      Withdrawal|2024-12-04 01:04:...|\n|             7|        89|      2024-01-07|             225.5|         Deposit|2024-12-04 01:04:...|\n|             8|        67|      2024-01-08|            275.75|      Withdrawal|2024-12-04 01:04:...|\n|             9|        14|      2024-01-09|             325.0|         Deposit|2024-12-04 01:04:...|\n|            10|        92|      2024-01-10|            375.25|      Withdrawal|2024-12-04 01:04:...|\n|            11|         3|      2024-01-11|             100.5|         Deposit|2024-12-04 01:04:...|\n|            12|        81|      2024-01-12|            200.75|      Withdrawal|2024-12-04 01:04:...|\n|            13|        29|      2024-01-13|             150.0|         Deposit|2024-12-04 01:04:...|\n|            14|        64|      2024-01-14|            300.25|      Withdrawal|2024-12-04 01:04:...|\n|            15|        47|      2024-01-15|             250.0|         Deposit|2024-12-04 01:04:...|\n|            16|        18|      2024-01-16|             175.0|      Withdrawal|2024-12-04 01:04:...|\n|            17|        99|      2024-01-17|             225.5|         Deposit|2024-12-04 01:04:...|\n|            18|         5|      2024-01-18|            275.75|      Withdrawal|2024-12-04 01:04:...|\n|            19|        76|      2024-01-19|             325.0|         Deposit|2024-12-04 01:04:...|\n|            20|        21|      2024-01-20|            375.25|      Withdrawal|2024-12-04 01:04:...|\n|            21|        53|      2024-01-21|             100.5|         Deposit|2024-12-04 01:04:...|\n|            22|        37|      2024-01-22|            200.75|      Withdrawal|2024-12-04 01:04:...|\n|            23|        88|      2024-01-23|             150.0|         Deposit|2024-12-04 01:04:...|\n|            24|        11|      2024-01-24|            300.25|      Withdrawal|2024-12-04 01:04:...|\n|            25|        66|      2024-01-25|             250.0|         Deposit|2024-12-04 01:04:...|\n+--------------+----------+----------------+------------------+----------------+--------------------+\nonly showing top 25 rows\n\n"
     ]
    }
   ],
   "source": [
    "from pyspark.sql.functions import current_timestamp\n",
    "df = df.withColumn(\"ingestion_timestamp\",current_timestamp())\n",
    "df.show(25)"
   ]
  },
  {
   "cell_type": "markdown",
   "metadata": {
    "application/vnd.databricks.v1+cell": {
     "cellMetadata": {
      "byteLimit": 2048000,
      "rowLimit": 10000
     },
     "inputWidgets": {},
     "nuid": "a1fae920-689c-48e7-a816-5a555c6daa67",
     "showTitle": false,
     "tableResultSettingsMap": {},
     "title": ""
    }
   },
   "source": [
    "Day 1 (Full Load)"
   ]
  },
  {
   "cell_type": "code",
   "execution_count": 0,
   "metadata": {
    "application/vnd.databricks.v1+cell": {
     "cellMetadata": {
      "byteLimit": 2048000,
      "rowLimit": 10000
     },
     "inputWidgets": {},
     "nuid": "17b8254e-b219-4fb0-9993-5bc4065d9d3a",
     "showTitle": false,
     "tableResultSettingsMap": {},
     "title": ""
    }
   },
   "outputs": [],
   "source": [
    "#df.write.format(\"delta\").mode(\"overwrite\").save(\"abfss://processed@abclake1we3.dfs.core.windows.net/delta/transactions\")"
   ]
  },
  {
   "cell_type": "code",
   "execution_count": 0,
   "metadata": {
    "application/vnd.databricks.v1+cell": {
     "cellMetadata": {
      "byteLimit": 2048000,
      "rowLimit": 10000
     },
     "inputWidgets": {},
     "nuid": "abbd8db7-07e9-463f-a3fa-79fdab2a59b2",
     "showTitle": false,
     "tableResultSettingsMap": {},
     "title": ""
    }
   },
   "outputs": [],
   "source": [
    "#validate data\n",
    "df.write.format(\"delta\").mode(\"overwrite\").save(\"abfss://processed@datalakest21.dfs.core.windows.net/delta/transactions\")"
   ]
  },
  {
   "cell_type": "markdown",
   "metadata": {
    "application/vnd.databricks.v1+cell": {
     "cellMetadata": {
      "byteLimit": 2048000,
      "rowLimit": 10000
     },
     "inputWidgets": {},
     "nuid": "5f71630e-36e6-4fdd-bd27-025970dcd504",
     "showTitle": false,
     "tableResultSettingsMap": {},
     "title": ""
    }
   },
   "source": [
    "Day 2 (Onwards)"
   ]
  },
  {
   "cell_type": "code",
   "execution_count": 0,
   "metadata": {
    "application/vnd.databricks.v1+cell": {
     "cellMetadata": {
      "byteLimit": 2048000,
      "rowLimit": 10000
     },
     "inputWidgets": {},
     "nuid": "a5918a65-9dc7-42d8-aa6f-4b6c1146f7b2",
     "showTitle": false,
     "tableResultSettingsMap": {},
     "title": ""
    }
   },
   "outputs": [],
   "source": [
    "from delta.tables import DeltaTable\n",
    "\n",
    "existing_data = DeltaTable.forPath(spark, \"abfss://processed@datalakest21.dfs.core.windows.net/delta/transactions\")\n",
    "\n",
    "existing_data.alias(\"existing\").merge(df.alias(\"new\"),\"existing.transaction_id=new.transaction_id\").whenMatchedUpdateAll().whenNotMatchedInsertAll().execute()"
   ]
  },
  {
   "cell_type": "code",
   "execution_count": 0,
   "metadata": {
    "application/vnd.databricks.v1+cell": {
     "cellMetadata": {
      "byteLimit": 2048000,
      "rowLimit": 10000
     },
     "inputWidgets": {},
     "nuid": "b4966d0d-b717-4cac-a8ec-2fcee106253c",
     "showTitle": false,
     "tableResultSettingsMap": {},
     "title": ""
    }
   },
   "outputs": [],
   "source": [
    "#spark.sql(\"\"\"\n",
    " #         CREATE SCHEMA IF NOT EXISTS hive_metastore.transactions\n",
    "   #       \"\"\")\n",
    "\n",
    "#spark.sql(\"\"\"\n",
    "#          CREATE TABLE hive_metastore.transactions.stg_transactions\n",
    " #         USING DELTA\n",
    "  #        LOCATION 'abfss://processed@datalakest21.dfs.core.windows.net/delta/transactions'\"\"\")"
   ]
  },
  {
   "cell_type": "markdown",
   "metadata": {
    "application/vnd.databricks.v1+cell": {
     "cellMetadata": {
      "byteLimit": 2048000,
      "rowLimit": 10000
     },
     "inputWidgets": {},
     "nuid": "0df060ae-eb18-4660-9f52-197320b1b2ad",
     "showTitle": false,
     "tableResultSettingsMap": {},
     "title": ""
    }
   },
   "source": [
    "Validate"
   ]
  },
  {
   "cell_type": "code",
   "execution_count": 0,
   "metadata": {
    "application/vnd.databricks.v1+cell": {
     "cellMetadata": {
      "byteLimit": 2048000,
      "rowLimit": 10000
     },
     "inputWidgets": {},
     "nuid": "de43e16b-04f3-4580-ad2e-f874d489f1b3",
     "showTitle": false,
     "tableResultSettingsMap": {},
     "title": ""
    }
   },
   "outputs": [
    {
     "output_type": "stream",
     "name": "stdout",
     "output_type": "stream",
     "text": [
      "+--------------+----------+----------------+------------------+----------------+--------------------+\n|transaction_id|account_id|transaction_date|transaction_amount|transaction_type| ingestion_timestamp|\n+--------------+----------+----------------+------------------+----------------+--------------------+\n|             1|        45|      2024-01-01|             100.5|         Deposit|2024-12-04 01:05:...|\n|             2|        12|      2024-01-02|            200.75|      Withdrawal|2024-12-04 01:05:...|\n|             3|        78|      2024-01-03|             150.0|         Deposit|2024-12-04 01:05:...|\n|             4|        34|      2024-01-04|            300.25|      Withdrawal|2024-12-04 01:05:...|\n|             5|        56|      2024-01-05|             250.0|         Deposit|2024-12-04 01:05:...|\n|             6|        23|      2024-01-06|             175.0|      Withdrawal|2024-12-04 01:05:...|\n|             7|        89|      2024-01-07|             225.5|         Deposit|2024-12-04 01:05:...|\n|             8|        67|      2024-01-08|            275.75|      Withdrawal|2024-12-04 01:05:...|\n|             9|        14|      2024-01-09|             325.0|         Deposit|2024-12-04 01:05:...|\n|            10|        92|      2024-01-10|            375.25|      Withdrawal|2024-12-04 01:05:...|\n|            11|         3|      2024-01-11|             100.5|         Deposit|2024-12-04 01:05:...|\n|            12|        81|      2024-01-12|            200.75|      Withdrawal|2024-12-04 01:05:...|\n|            13|        29|      2024-01-13|             150.0|         Deposit|2024-12-04 01:05:...|\n|            14|        64|      2024-01-14|            300.25|      Withdrawal|2024-12-04 01:05:...|\n|            15|        47|      2024-01-15|             250.0|         Deposit|2024-12-04 01:05:...|\n|            16|        18|      2024-01-16|             175.0|      Withdrawal|2024-12-04 01:05:...|\n|            17|        99|      2024-01-17|             225.5|         Deposit|2024-12-04 01:05:...|\n|            18|         5|      2024-01-18|            275.75|      Withdrawal|2024-12-04 01:05:...|\n|            19|        76|      2024-01-19|             325.0|         Deposit|2024-12-04 01:05:...|\n|            20|        21|      2024-01-20|            375.25|      Withdrawal|2024-12-04 01:05:...|\n+--------------+----------+----------------+------------------+----------------+--------------------+\nonly showing top 20 rows\n\n"
     ]
    }
   ],
   "source": [
    "spark.read.format(\"delta\").load('abfss://processed@datalakest21.dfs.core.windows.net/delta/transactions').show()"
   ]
  },
  {
   "cell_type": "code",
   "execution_count": 0,
   "metadata": {
    "application/vnd.databricks.v1+cell": {
     "cellMetadata": {
      "byteLimit": 2048000,
      "rowLimit": 10000
     },
     "inputWidgets": {},
     "nuid": "b752dcb8-5c8c-42a9-a433-66b19cd7d8ee",
     "showTitle": false,
     "tableResultSettingsMap": {},
     "title": ""
    }
   },
   "outputs": [],
   "source": [
    " #spark.sql(\"\"\"SELECT * FROM hive_metastore.transactions.stg_transactions\"\"\").show(20)"
   ]
  },
  {
   "cell_type": "code",
   "execution_count": 0,
   "metadata": {
    "application/vnd.databricks.v1+cell": {
     "cellMetadata": {
      "byteLimit": 2048000,
      "rowLimit": 10000
     },
     "inputWidgets": {},
     "nuid": "7c4dbf29-58d4-4644-abbb-872d1e88b02e",
     "showTitle": false,
     "tableResultSettingsMap": {},
     "title": ""
    }
   },
   "outputs": [],
   "source": [
    "# Disable the retention duration check\n",
    "#park.conf.set(\"spark.databricks.delta.retentionDurationCheck.enabled\", \"false\")\n",
    "# VACUUM command to remove old data files\n",
    "#spark.sql(\"VACUUM delta.`abfss://processed@datalakest21.dfs.core.windows.net/delta/transactions` RETAIN 72 HOURS\")"
   ]
  }
 ],
 "metadata": {
  "application/vnd.databricks.v1+notebook": {
   "dashboards": [],
   "environmentMetadata": {
    "base_environment": "",
    "client": "1"
   },
   "language": "python",
   "notebookMetadata": {
    "pythonIndentUnit": 4
   },
   "notebookName": "dbricks-delta-files.ipynb",
   "widgets": {}
  },
  "language_info": {
   "name": "python"
  }
 },
 "nbformat": 4,
 "nbformat_minor": 0
}
